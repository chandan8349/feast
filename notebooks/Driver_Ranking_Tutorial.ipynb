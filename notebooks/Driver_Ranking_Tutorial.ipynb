{
  "nbformat": 4,
  "nbformat_minor": 0,
  "metadata": {
    "colab": {
      "name": "Driver Ranking Tutorial",
      "provenance": [],
      "include_colab_link": true
    },
    "kernelspec": {
      "name": "python3",
      "display_name": "Python 3"
    },
    "language_info": {
      "name": "python"
    }
  },
  "cells": [
    {
      "cell_type": "markdown",
      "metadata": {
        "id": "view-in-github",
        "colab_type": "text"
      },
      "source": [
        "<a href=\"https://colab.research.google.com/github/chandan8349/feast/blob/main/notebooks/Driver_Ranking_Tutorial.ipynb\" target=\"_parent\"><img src=\"https://colab.research.google.com/assets/colab-badge.svg\" alt=\"Open In Colab\"/></a>"
      ]
    },
    {
      "cell_type": "markdown",
      "metadata": {
        "id": "A7ffktm_Ty80"
      },
      "source": []
    },
    {
      "cell_type": "markdown",
      "metadata": {
        "id": "qa-41097T0vH"
      },
      "source": [
        "### Overview\n",
        "Making a prediction using a linear regression model is a common use case in ML. In this guide tutorial, we build the model that predicts if a driver will complete a trip based on a number of features ingested into Feast.\n",
        "\n",
        "The basic local mode gives you ability to quickly try Feast, while the advanced mode shows how you can use Feast in a production setting, in particular for the Google Cloud Platform (GCP) cloud.\n",
        "\n",
        "This tutorial uses Feast with scikit learn to:\n",
        "\n",
        "* Train a model locally using data from BigQuery\n",
        "* Test the model for online inference using SQLite (for fast iteration)\n",
        "* Test the model for online inference using Firestore (to represent production)\n",
        ""
      ]
    },
    {
      "cell_type": "markdown",
      "metadata": {
        "id": "j1Qipu_GUYdA"
      },
      "source": [
        "## Step 1: Install feast, scikit-learn\n",
        "\n",
        "Install feast, gcp dependencies and scikit-learn\n"
      ]
    },
    {
      "cell_type": "code",
      "metadata": {
        "colab": {
          "base_uri": "https://localhost:8080/"
        },
        "id": "gxuVxKG3Ua6z",
        "outputId": "e985f839-a0ad-4e60-d1e6-ded0ac813c22"
      },
      "source": [
        "!pip install feast scikit-learn 'feast[gcp]'"
      ],
      "execution_count": 78,
      "outputs": [
        {
          "output_type": "stream",
          "name": "stdout",
          "text": [
            "Requirement already satisfied: feast in /usr/local/lib/python3.11/dist-packages (0.51.0)\n",
            "Requirement already satisfied: scikit-learn in /usr/local/lib/python3.11/dist-packages (1.6.1)\n",
            "Requirement already satisfied: click<9.0.0,>=7.0.0 in /usr/local/lib/python3.11/dist-packages (from feast) (8.2.1)\n",
            "Requirement already satisfied: colorama<1,>=0.3.9 in /usr/local/lib/python3.11/dist-packages (from feast) (0.4.6)\n",
            "Requirement already satisfied: dill~=0.3.0 in /usr/local/lib/python3.11/dist-packages (from feast) (0.3.8)\n",
            "Requirement already satisfied: protobuf>=4.24.0 in /usr/local/lib/python3.11/dist-packages (from feast) (5.29.5)\n",
            "Requirement already satisfied: Jinja2<4,>=2 in /usr/local/lib/python3.11/dist-packages (from feast) (3.1.6)\n",
            "Requirement already satisfied: jsonschema in /usr/local/lib/python3.11/dist-packages (from feast) (4.25.0)\n",
            "Requirement already satisfied: mmh3 in /usr/local/lib/python3.11/dist-packages (from feast) (5.1.0)\n",
            "Requirement already satisfied: numpy<3,>=2.0.0 in /usr/local/lib/python3.11/dist-packages (from feast) (2.0.2)\n",
            "Requirement already satisfied: pandas<3,>=1.4.3 in /usr/local/lib/python3.11/dist-packages (from feast) (2.2.2)\n",
            "Requirement already satisfied: pyarrow<=17.0.0 in /usr/local/lib/python3.11/dist-packages (from feast) (17.0.0)\n",
            "Requirement already satisfied: pydantic==2.10.6 in /usr/local/lib/python3.11/dist-packages (from feast) (2.10.6)\n",
            "Requirement already satisfied: pygments<3,>=2.12.0 in /usr/local/lib/python3.11/dist-packages (from feast) (2.19.2)\n",
            "Requirement already satisfied: PyYAML<7,>=5.4.0 in /usr/local/lib/python3.11/dist-packages (from feast) (6.0.2)\n",
            "Requirement already satisfied: requests in /usr/local/lib/python3.11/dist-packages (from feast) (2.32.3)\n",
            "Requirement already satisfied: SQLAlchemy>1 in /usr/local/lib/python3.11/dist-packages (from SQLAlchemy[mypy]>1->feast) (2.0.41)\n",
            "Requirement already satisfied: tabulate<1,>=0.8.0 in /usr/local/lib/python3.11/dist-packages (from feast) (0.9.0)\n",
            "Requirement already satisfied: tenacity<9,>=7 in /usr/local/lib/python3.11/dist-packages (from feast) (8.5.0)\n",
            "Requirement already satisfied: toml<1,>=0.10.0 in /usr/local/lib/python3.11/dist-packages (from feast) (0.10.2)\n",
            "Requirement already satisfied: tqdm<5,>=4 in /usr/local/lib/python3.11/dist-packages (from feast) (4.67.1)\n",
            "Requirement already satisfied: typeguard>=4.0.0 in /usr/local/lib/python3.11/dist-packages (from feast) (4.4.4)\n",
            "Requirement already satisfied: fastapi>=0.68.0 in /usr/local/lib/python3.11/dist-packages (from feast) (0.116.1)\n",
            "Requirement already satisfied: uvicorn==0.34.0 in /usr/local/lib/python3.11/dist-packages (from uvicorn[standard]==0.34.0->feast) (0.34.0)\n",
            "Requirement already satisfied: uvicorn-worker in /usr/local/lib/python3.11/dist-packages (from feast) (0.3.0)\n",
            "Requirement already satisfied: gunicorn in /usr/local/lib/python3.11/dist-packages (from feast) (23.0.0)\n",
            "Requirement already satisfied: dask>=2024.2.1 in /usr/local/lib/python3.11/dist-packages (from dask[dataframe]>=2024.2.1->feast) (2025.5.0)\n",
            "Requirement already satisfied: prometheus_client in /usr/local/lib/python3.11/dist-packages (from feast) (0.22.1)\n",
            "Requirement already satisfied: psutil in /usr/local/lib/python3.11/dist-packages (from feast) (5.9.5)\n",
            "Requirement already satisfied: bigtree>=0.19.2 in /usr/local/lib/python3.11/dist-packages (from feast) (0.29.2)\n",
            "Requirement already satisfied: pyjwt in /usr/local/lib/python3.11/dist-packages (from feast) (2.10.1)\n",
            "Requirement already satisfied: transformers>=4.36.0 in /usr/local/lib/python3.11/dist-packages (from feast) (4.53.3)\n",
            "Requirement already satisfied: annotated-types>=0.6.0 in /usr/local/lib/python3.11/dist-packages (from pydantic==2.10.6->feast) (0.7.0)\n",
            "Requirement already satisfied: pydantic-core==2.27.2 in /usr/local/lib/python3.11/dist-packages (from pydantic==2.10.6->feast) (2.27.2)\n",
            "Requirement already satisfied: typing-extensions>=4.12.2 in /usr/local/lib/python3.11/dist-packages (from pydantic==2.10.6->feast) (4.14.1)\n",
            "Requirement already satisfied: h11>=0.8 in /usr/local/lib/python3.11/dist-packages (from uvicorn==0.34.0->uvicorn[standard]==0.34.0->feast) (0.16.0)\n",
            "Requirement already satisfied: httptools>=0.6.3 in /usr/local/lib/python3.11/dist-packages (from uvicorn[standard]==0.34.0->feast) (0.6.4)\n",
            "Requirement already satisfied: python-dotenv>=0.13 in /usr/local/lib/python3.11/dist-packages (from uvicorn[standard]==0.34.0->feast) (1.1.1)\n",
            "Requirement already satisfied: uvloop!=0.15.0,!=0.15.1,>=0.14.0 in /usr/local/lib/python3.11/dist-packages (from uvicorn[standard]==0.34.0->feast) (0.21.0)\n",
            "Requirement already satisfied: watchfiles>=0.13 in /usr/local/lib/python3.11/dist-packages (from uvicorn[standard]==0.34.0->feast) (1.1.0)\n",
            "Requirement already satisfied: websockets>=10.4 in /usr/local/lib/python3.11/dist-packages (from uvicorn[standard]==0.34.0->feast) (15.0.1)\n",
            "Requirement already satisfied: scipy>=1.6.0 in /usr/local/lib/python3.11/dist-packages (from scikit-learn) (1.16.0)\n",
            "Requirement already satisfied: joblib>=1.2.0 in /usr/local/lib/python3.11/dist-packages (from scikit-learn) (1.5.1)\n",
            "Requirement already satisfied: threadpoolctl>=3.1.0 in /usr/local/lib/python3.11/dist-packages (from scikit-learn) (3.6.0)\n",
            "Requirement already satisfied: google-api-core<3,>=1.23.0 in /usr/local/lib/python3.11/dist-packages (from feast[gcp]) (2.25.1)\n",
            "Requirement already satisfied: googleapis-common-protos<2,>=1.52.0 in /usr/local/lib/python3.11/dist-packages (from feast[gcp]) (1.70.0)\n",
            "Requirement already satisfied: google-cloud-bigquery<4,>=2 in /usr/local/lib/python3.11/dist-packages (from google-cloud-bigquery[pandas]<4,>=2; extra == \"gcp\"->feast[gcp]) (3.35.0)\n",
            "Requirement already satisfied: google-cloud-bigquery-storage<3,>=2.0.0 in /usr/local/lib/python3.11/dist-packages (from feast[gcp]) (2.32.0)\n",
            "Requirement already satisfied: google-cloud-datastore<3,>=2.16.0 in /usr/local/lib/python3.11/dist-packages (from feast[gcp]) (2.21.0)\n",
            "Requirement already satisfied: google-cloud-storage<3,>=1.34.0 in /usr/local/lib/python3.11/dist-packages (from feast[gcp]) (2.19.0)\n",
            "Requirement already satisfied: google-cloud-bigtable<3,>=2.11.0 in /usr/local/lib/python3.11/dist-packages (from feast[gcp]) (2.31.0)\n",
            "Requirement already satisfied: fsspec<=2024.9.0 in /usr/local/lib/python3.11/dist-packages (from feast[gcp]) (2024.9.0)\n",
            "Requirement already satisfied: cloudpickle>=3.0.0 in /usr/local/lib/python3.11/dist-packages (from dask>=2024.2.1->dask[dataframe]>=2024.2.1->feast) (3.1.1)\n",
            "Requirement already satisfied: packaging>=20.0 in /usr/local/lib/python3.11/dist-packages (from dask>=2024.2.1->dask[dataframe]>=2024.2.1->feast) (25.0)\n",
            "Requirement already satisfied: partd>=1.4.0 in /usr/local/lib/python3.11/dist-packages (from dask>=2024.2.1->dask[dataframe]>=2024.2.1->feast) (1.4.2)\n",
            "Requirement already satisfied: toolz>=0.10.0 in /usr/local/lib/python3.11/dist-packages (from dask>=2024.2.1->dask[dataframe]>=2024.2.1->feast) (0.12.1)\n",
            "Requirement already satisfied: importlib_metadata>=4.13.0 in /usr/local/lib/python3.11/dist-packages (from dask>=2024.2.1->dask[dataframe]>=2024.2.1->feast) (8.7.0)\n",
            "Requirement already satisfied: starlette<0.48.0,>=0.40.0 in /usr/local/lib/python3.11/dist-packages (from fastapi>=0.68.0->feast) (0.47.2)\n",
            "Requirement already satisfied: proto-plus<2.0.0,>=1.22.3 in /usr/local/lib/python3.11/dist-packages (from google-api-core<3,>=1.23.0->feast[gcp]) (1.26.1)\n",
            "Requirement already satisfied: google-auth<3.0.0,>=2.14.1 in /usr/local/lib/python3.11/dist-packages (from google-api-core<3,>=1.23.0->feast[gcp]) (2.38.0)\n",
            "Requirement already satisfied: google-cloud-core<3.0.0,>=2.4.1 in /usr/local/lib/python3.11/dist-packages (from google-cloud-bigquery<4,>=2->google-cloud-bigquery[pandas]<4,>=2; extra == \"gcp\"->feast[gcp]) (2.4.3)\n",
            "Requirement already satisfied: google-resumable-media<3.0.0,>=2.0.0 in /usr/local/lib/python3.11/dist-packages (from google-cloud-bigquery<4,>=2->google-cloud-bigquery[pandas]<4,>=2; extra == \"gcp\"->feast[gcp]) (2.7.2)\n",
            "Requirement already satisfied: python-dateutil<3.0.0,>=2.8.2 in /usr/local/lib/python3.11/dist-packages (from google-cloud-bigquery<4,>=2->google-cloud-bigquery[pandas]<4,>=2; extra == \"gcp\"->feast[gcp]) (2.9.0.post0)\n",
            "Requirement already satisfied: pandas-gbq>=0.26.1 in /usr/local/lib/python3.11/dist-packages (from google-cloud-bigquery[pandas]<4,>=2; extra == \"gcp\"->feast[gcp]) (0.29.2)\n",
            "Requirement already satisfied: grpcio<2.0.0,>=1.47.0 in /usr/local/lib/python3.11/dist-packages (from google-cloud-bigquery[pandas]<4,>=2; extra == \"gcp\"->feast[gcp]) (1.73.1)\n",
            "Requirement already satisfied: db-dtypes<2.0.0,>=1.0.4 in /usr/local/lib/python3.11/dist-packages (from google-cloud-bigquery[pandas]<4,>=2; extra == \"gcp\"->feast[gcp]) (1.4.3)\n",
            "Requirement already satisfied: grpc-google-iam-v1<1.0.0,>=0.12.4 in /usr/local/lib/python3.11/dist-packages (from google-cloud-bigtable<3,>=2.11.0->feast[gcp]) (0.14.2)\n",
            "Requirement already satisfied: google-crc32c<2.0.0dev,>=1.5.0 in /usr/local/lib/python3.11/dist-packages (from google-cloud-bigtable<3,>=2.11.0->feast[gcp]) (1.7.1)\n",
            "Requirement already satisfied: MarkupSafe>=2.0 in /usr/local/lib/python3.11/dist-packages (from Jinja2<4,>=2->feast) (3.0.2)\n",
            "Requirement already satisfied: pytz>=2020.1 in /usr/local/lib/python3.11/dist-packages (from pandas<3,>=1.4.3->feast) (2025.2)\n",
            "Requirement already satisfied: tzdata>=2022.7 in /usr/local/lib/python3.11/dist-packages (from pandas<3,>=1.4.3->feast) (2025.2)\n",
            "Requirement already satisfied: charset-normalizer<4,>=2 in /usr/local/lib/python3.11/dist-packages (from requests->feast) (3.4.2)\n",
            "Requirement already satisfied: idna<4,>=2.5 in /usr/local/lib/python3.11/dist-packages (from requests->feast) (3.10)\n",
            "Requirement already satisfied: urllib3<3,>=1.21.1 in /usr/local/lib/python3.11/dist-packages (from requests->feast) (2.5.0)\n",
            "Requirement already satisfied: certifi>=2017.4.17 in /usr/local/lib/python3.11/dist-packages (from requests->feast) (2025.7.14)\n",
            "Requirement already satisfied: greenlet>=1 in /usr/local/lib/python3.11/dist-packages (from SQLAlchemy>1->SQLAlchemy[mypy]>1->feast) (3.2.3)\n",
            "Requirement already satisfied: mypy>=0.910 in /usr/local/lib/python3.11/dist-packages (from SQLAlchemy[mypy]>1->feast) (1.17.0)\n",
            "Requirement already satisfied: filelock in /usr/local/lib/python3.11/dist-packages (from transformers>=4.36.0->feast) (3.18.0)\n",
            "Requirement already satisfied: huggingface-hub<1.0,>=0.30.0 in /usr/local/lib/python3.11/dist-packages (from transformers>=4.36.0->feast) (0.33.4)\n",
            "Requirement already satisfied: regex!=2019.12.17 in /usr/local/lib/python3.11/dist-packages (from transformers>=4.36.0->feast) (2024.11.6)\n",
            "Requirement already satisfied: tokenizers<0.22,>=0.21 in /usr/local/lib/python3.11/dist-packages (from transformers>=4.36.0->feast) (0.21.2)\n",
            "Requirement already satisfied: safetensors>=0.4.3 in /usr/local/lib/python3.11/dist-packages (from transformers>=4.36.0->feast) (0.5.3)\n",
            "Requirement already satisfied: attrs>=22.2.0 in /usr/local/lib/python3.11/dist-packages (from jsonschema->feast) (25.3.0)\n",
            "Requirement already satisfied: jsonschema-specifications>=2023.03.6 in /usr/local/lib/python3.11/dist-packages (from jsonschema->feast) (2025.4.1)\n",
            "Requirement already satisfied: referencing>=0.28.4 in /usr/local/lib/python3.11/dist-packages (from jsonschema->feast) (0.36.2)\n",
            "Requirement already satisfied: rpds-py>=0.7.1 in /usr/local/lib/python3.11/dist-packages (from jsonschema->feast) (0.26.0)\n",
            "Requirement already satisfied: grpcio-status<2.0.0,>=1.33.2 in /usr/local/lib/python3.11/dist-packages (from google-api-core[grpc]<3.0.0,>=2.11.1->google-cloud-bigquery<4,>=2->google-cloud-bigquery[pandas]<4,>=2; extra == \"gcp\"->feast[gcp]) (1.71.2)\n",
            "Requirement already satisfied: cachetools<6.0,>=2.0.0 in /usr/local/lib/python3.11/dist-packages (from google-auth<3.0.0,>=2.14.1->google-api-core<3,>=1.23.0->feast[gcp]) (5.5.2)\n",
            "Requirement already satisfied: pyasn1-modules>=0.2.1 in /usr/local/lib/python3.11/dist-packages (from google-auth<3.0.0,>=2.14.1->google-api-core<3,>=1.23.0->feast[gcp]) (0.4.2)\n",
            "Requirement already satisfied: rsa<5,>=3.1.4 in /usr/local/lib/python3.11/dist-packages (from google-auth<3.0.0,>=2.14.1->google-api-core<3,>=1.23.0->feast[gcp]) (4.9.1)\n",
            "Requirement already satisfied: hf-xet<2.0.0,>=1.1.2 in /usr/local/lib/python3.11/dist-packages (from huggingface-hub<1.0,>=0.30.0->transformers>=4.36.0->feast) (1.1.5)\n",
            "Requirement already satisfied: zipp>=3.20 in /usr/local/lib/python3.11/dist-packages (from importlib_metadata>=4.13.0->dask>=2024.2.1->dask[dataframe]>=2024.2.1->feast) (3.23.0)\n",
            "Requirement already satisfied: mypy_extensions>=1.0.0 in /usr/local/lib/python3.11/dist-packages (from mypy>=0.910->SQLAlchemy[mypy]>1->feast) (1.1.0)\n",
            "Requirement already satisfied: pathspec>=0.9.0 in /usr/local/lib/python3.11/dist-packages (from mypy>=0.910->SQLAlchemy[mypy]>1->feast) (0.12.1)\n",
            "Requirement already satisfied: setuptools in /usr/local/lib/python3.11/dist-packages (from pandas-gbq>=0.26.1->google-cloud-bigquery[pandas]<4,>=2; extra == \"gcp\"->feast[gcp]) (75.2.0)\n",
            "Requirement already satisfied: pydata-google-auth>=1.5.0 in /usr/local/lib/python3.11/dist-packages (from pandas-gbq>=0.26.1->google-cloud-bigquery[pandas]<4,>=2; extra == \"gcp\"->feast[gcp]) (1.9.1)\n",
            "Requirement already satisfied: google-auth-oauthlib>=0.7.0 in /usr/local/lib/python3.11/dist-packages (from pandas-gbq>=0.26.1->google-cloud-bigquery[pandas]<4,>=2; extra == \"gcp\"->feast[gcp]) (1.2.2)\n",
            "Requirement already satisfied: locket in /usr/local/lib/python3.11/dist-packages (from partd>=1.4.0->dask>=2024.2.1->dask[dataframe]>=2024.2.1->feast) (1.0.0)\n",
            "Requirement already satisfied: six>=1.5 in /usr/local/lib/python3.11/dist-packages (from python-dateutil<3.0.0,>=2.8.2->google-cloud-bigquery<4,>=2->google-cloud-bigquery[pandas]<4,>=2; extra == \"gcp\"->feast[gcp]) (1.17.0)\n",
            "Requirement already satisfied: anyio<5,>=3.6.2 in /usr/local/lib/python3.11/dist-packages (from starlette<0.48.0,>=0.40.0->fastapi>=0.68.0->feast) (4.9.0)\n",
            "Requirement already satisfied: sniffio>=1.1 in /usr/local/lib/python3.11/dist-packages (from anyio<5,>=3.6.2->starlette<0.48.0,>=0.40.0->fastapi>=0.68.0->feast) (1.3.1)\n",
            "Requirement already satisfied: requests-oauthlib>=0.7.0 in /usr/local/lib/python3.11/dist-packages (from google-auth-oauthlib>=0.7.0->pandas-gbq>=0.26.1->google-cloud-bigquery[pandas]<4,>=2; extra == \"gcp\"->feast[gcp]) (2.0.0)\n",
            "Requirement already satisfied: pyasn1<0.7.0,>=0.6.1 in /usr/local/lib/python3.11/dist-packages (from pyasn1-modules>=0.2.1->google-auth<3.0.0,>=2.14.1->google-api-core<3,>=1.23.0->feast[gcp]) (0.6.1)\n",
            "Requirement already satisfied: oauthlib>=3.0.0 in /usr/local/lib/python3.11/dist-packages (from requests-oauthlib>=0.7.0->google-auth-oauthlib>=0.7.0->pandas-gbq>=0.26.1->google-cloud-bigquery[pandas]<4,>=2; extra == \"gcp\"->feast[gcp]) (3.3.1)\n"
          ]
        }
      ]
    },
    {
      "cell_type": "markdown",
      "metadata": {
        "id": "P8pFSVUp34W5"
      },
      "source": [
        "#### Check feast version"
      ]
    },
    {
      "cell_type": "markdown",
      "metadata": {
        "id": "soTYiMPXcNco"
      },
      "source": []
    },
    {
      "cell_type": "code",
      "metadata": {
        "colab": {
          "base_uri": "https://localhost:8080/"
        },
        "id": "cOSAfdZiUnFa",
        "outputId": "7cdb800e-e71d-491b-f88f-b0b07f28bde2"
      },
      "source": [
        "!feast version"
      ],
      "execution_count": null,
      "outputs": [
        {
          "output_type": "stream",
          "name": "stdout",
          "text": [
            "2025-07-26 09:03:26.109167: E external/local_xla/xla/stream_executor/cuda/cuda_fft.cc:477] Unable to register cuFFT factory: Attempting to register factory for plugin cuFFT when one has already been registered\n",
            "WARNING: All log messages before absl::InitializeLog() is called are written to STDERR\n",
            "E0000 00:00:1753520606.147888   27542 cuda_dnn.cc:8310] Unable to register cuDNN factory: Attempting to register factory for plugin cuDNN when one has already been registered\n",
            "E0000 00:00:1753520606.159370   27542 cuda_blas.cc:1418] Unable to register cuBLAS factory: Attempting to register factory for plugin cuBLAS when one has already been registered\n"
          ]
        }
      ]
    },
    {
      "cell_type": "markdown",
      "metadata": {
        "id": "pC4AzJ_b396l"
      },
      "source": [
        "## Step 2: Clone the Git repo\n",
        "\n",
        "Clone the Driver Ranking Git repo into your Colab Folder"
      ]
    },
    {
      "cell_type": "code",
      "metadata": {
        "colab": {
          "base_uri": "https://localhost:8080/"
        },
        "id": "4Qim_qbtUyGA",
        "outputId": "6556ee99-aac3-468c-a9d5-8a643387712d"
      },
      "source": [
        "!git clone https://github.com/feast-dev/feast-driver-ranking-tutorial.git"
      ],
      "execution_count": null,
      "outputs": [
        {
          "output_type": "stream",
          "text": [
            "Cloning into 'feast-driver-ranking-tutorial'...\n",
            "remote: Enumerating objects: 34, done.\u001b[K\n",
            "remote: Counting objects: 100% (34/34), done.\u001b[K\n",
            "remote: Compressing objects: 100% (24/24), done.\u001b[K\n",
            "remote: Total 34 (delta 13), reused 28 (delta 8), pack-reused 0\u001b[K\n",
            "Unpacking objects: 100% (34/34), done.\n"
          ],
          "name": "stdout"
        }
      ]
    },
    {
      "cell_type": "markdown",
      "metadata": {
        "id": "tLnM3IOy5C5l"
      },
      "source": [
        "## Step 3: Set up your Goggle Cloud Platform (GCP) Configurations"
      ]
    },
    {
      "cell_type": "markdown",
      "metadata": {
        "id": "KiNaOTKzWIcb"
      },
      "source": [
        "## Authenticate into GCP\n",
        "This will allow you to do the advanced section of the tutorial, where you materialize remotely on a GCP\n",
        "Feast spins up infrastructure on GCP using the credentials in our environment. Run the following cell to log into GCP:"
      ]
    },
    {
      "cell_type": "code",
      "metadata": {
        "id": "8Tj3MUPHWPTF"
      },
      "source": [
        "from google.colab import auth\n",
        "auth.authenticate_user()"
      ],
      "execution_count": null,
      "outputs": []
    },
    {
      "cell_type": "markdown",
      "metadata": {
        "id": "d8yzazB-Wfqc"
      },
      "source": [
        "Set configurations\n",
        "Set the following configuration, which we'll be using throughout the tutorial:\n",
        "\n",
        "PROJECT_ID: Your project.\n",
        "BUCKET_NAME: The name of a bucket which will be used to store the feature store registry and model artifacts.\n",
        "BIGQUERY_DATASET_NAME: The name of a dataset which will be used to create tables containing features.\n",
        "AI_PLATFORM_MODEL_NAME: The name of a model name which will be created in AI Platform."
      ]
    },
    {
      "cell_type": "code",
      "metadata": {
        "colab": {
          "base_uri": "https://localhost:8080/"
        },
        "id": "zV0sgfOTWeXz",
        "outputId": "d324609f-83e9-444c-c581-f2ecfd103bb6"
      },
      "source": [
        "PROJECT_ID= \"kf-feast\" #@param {type:\"string\"}\n",
        "BUCKET_NAME= \"driver_ranking_tutorial\" #@param {type:\"string\"} custom\n",
        "BIGQUERY_DATASET_NAME=\"feast_driver_ranking_tutorial\" #@param {type:\"string\"} custom\n",
        "AI_PLATFORM_MODEL_NAME=\"feast_driver_rankin_jsd_model\" #@param {type:\"string\"\n",
        "\n",
        "! gcloud config set project $PROJECT_ID\n",
        "%env GOOGLE_CLOUD_PROJECT=$PROJECT_ID\n",
        "!echo project_id = $PROJECT_ID > ~/.bigqueryrc"
      ],
      "execution_count": null,
      "outputs": [
        {
          "output_type": "stream",
          "text": [
            "Updated property [core/project].\n",
            "env: GOOGLE_CLOUD_PROJECT=kf-feast\n"
          ],
          "name": "stdout"
        }
      ]
    },
    {
      "cell_type": "code",
      "metadata": {
        "colab": {
          "base_uri": "https://localhost:8080/"
        },
        "id": "6Cs_SYr2gOjR",
        "outputId": "4b3d811b-6685-46f8-9830-b0378962bbef"
      },
      "source": [
        "# Only run if your bucket doesn't already exist!\n",
        "! gsutil mb gs://$BUCKET_NAME"
      ],
      "execution_count": null,
      "outputs": [
        {
          "output_type": "stream",
          "text": [
            "Creating gs://driver_ranking_tutorial/...\n"
          ],
          "name": "stdout"
        }
      ]
    },
    {
      "cell_type": "markdown",
      "metadata": {
        "id": "ohWMCVhS5PPN"
      },
      "source": [
        "## Step 4: Apply and deploy feature definitions\n",
        "\n",
        "`feast apply` scans python files in the current directory for feature definitions and deploys infrastructure according to `feature_store.yaml`"
      ]
    },
    {
      "cell_type": "code",
      "metadata": {
        "colab": {
          "base_uri": "https://localhost:8080/"
        },
        "id": "izhTk0WWX3Tx",
        "outputId": "444a11d3-db43-4170-c28b-51d6ea618660"
      },
      "source": [
        "%%shell\n",
        "cd /content/feast-driver-ranking-tutorial/driver_ranking/\n",
        "feast apply"
      ],
      "execution_count": null,
      "outputs": [
        {
          "output_type": "stream",
          "text": [
            "Registered entity \u001b[1m\u001b[32mdriver_id\u001b[0m\n",
            "Registered feature view \u001b[1m\u001b[32mdriver_hourly_stats\u001b[0m\n",
            "Deploying infrastructure for \u001b[1m\u001b[32mdriver_hourly_stats\u001b[0m\n"
          ],
          "name": "stdout"
        },
        {
          "output_type": "execute_result",
          "data": {
            "text/plain": [
              ""
            ]
          },
          "metadata": {
            "tags": []
          },
          "execution_count": 9
        }
      ]
    },
    {
      "cell_type": "markdown",
      "metadata": {
        "id": "lJlrf2Iu53BR"
      },
      "source": [
        "### Inspect the files created under your local folder"
      ]
    },
    {
      "cell_type": "code",
      "metadata": {
        "colab": {
          "base_uri": "https://localhost:8080/"
        },
        "id": "IrJ6gqtdmKk7",
        "outputId": "db32950c-9a73-4c06-fde3-52c753929c9b"
      },
      "source": [
        "%%shell\n",
        "cd /content/feast-driver-ranking-tutorial/driver_ranking/data/\n",
        "ls -l"
      ],
      "execution_count": null,
      "outputs": [
        {
          "output_type": "stream",
          "text": [
            "total 20\n",
            "-rw-r--r-- 1 root root 16384 Jul 26 20:43 online.db\n",
            "-rw-r--r-- 1 root root   310 Jul 26 20:43 registry.db\n"
          ],
          "name": "stdout"
        },
        {
          "output_type": "execute_result",
          "data": {
            "text/plain": [
              ""
            ]
          },
          "metadata": {
            "tags": []
          },
          "execution_count": 10
        }
      ]
    },
    {
      "cell_type": "markdown",
      "metadata": {
        "id": "bHBfTEau6Qt9"
      },
      "source": [
        "## Step 5: Train your model"
      ]
    },
    {
      "cell_type": "code",
      "metadata": {
        "colab": {
          "base_uri": "https://localhost:8080/"
        },
        "id": "F-Pc4Jo4kzBL",
        "outputId": "6414795f-9330-44b3-ee5c-992c9dd55db7"
      },
      "source": [
        "import feast\n",
        "from joblib import dump\n",
        "import pandas as pd\n",
        "from sklearn.linear_model import LinearRegression\n",
        "\n",
        "# Load driver order data\n",
        "orders = pd.read_csv(\"/content/feast-driver-ranking-tutorial/driver_orders.csv\", sep=\"\\t\")\n",
        "orders[\"event_timestamp\"] = pd.to_datetime(orders[\"event_timestamp\"])\n",
        "\n",
        "# Connect to your feature store provider\n",
        "fs = feast.FeatureStore(repo_path=\"/content/feast-driver-ranking-tutorial/driver_ranking\")\n",
        "\n",
        "# Retrieve training data from BigQuery\n",
        "training_df = fs.get_historical_features(\n",
        "    entity_df=orders,\n",
        "    feature_refs=[\n",
        "        \"driver_hourly_stats:conv_rate\",\n",
        "        \"driver_hourly_stats:acc_rate\",\n",
        "        \"driver_hourly_stats:avg_daily_trips\",\n",
        "    ],\n",
        ").to_df()\n",
        "\n",
        "print(\"----- Feature schema -----\\n\")\n",
        "print(training_df.info())\n",
        "\n",
        "print()\n",
        "print(\"----- Example features -----\\n\")\n",
        "print(training_df.head())\n",
        "\n",
        "# Train model\n",
        "target = \"trip_completed\"\n",
        "\n",
        "reg = LinearRegression()\n",
        "train_X = training_df[training_df.columns.drop(target).drop(\"event_timestamp\")]\n",
        "train_Y = training_df.loc[:, target]\n",
        "reg.fit(train_X[sorted(train_X)], train_Y)\n",
        "\n",
        "# Save model\n",
        "dump(reg, \"driver_model.bin\")"
      ],
      "execution_count": null,
      "outputs": [
        {
          "output_type": "stream",
          "text": [
            "----- Feature schema -----\n",
            "\n",
            "<class 'pandas.core.frame.DataFrame'>\n",
            "RangeIndex: 10 entries, 0 to 9\n",
            "Data columns (total 6 columns):\n",
            " #   Column                                Non-Null Count  Dtype              \n",
            "---  ------                                --------------  -----              \n",
            " 0   event_timestamp                       10 non-null     datetime64[ns, UTC]\n",
            " 1   driver_id                             10 non-null     int64              \n",
            " 2   trip_completed                        10 non-null     int64              \n",
            " 3   driver_hourly_stats__conv_rate        10 non-null     float64            \n",
            " 4   driver_hourly_stats__acc_rate         10 non-null     float64            \n",
            " 5   driver_hourly_stats__avg_daily_trips  10 non-null     int64              \n",
            "dtypes: datetime64[ns, UTC](1), float64(2), int64(3)\n",
            "memory usage: 608.0 bytes\n",
            "None\n",
            "\n",
            "----- Example features -----\n",
            "\n",
            "            event_timestamp  ...  driver_hourly_stats__avg_daily_trips\n",
            "0 2021-04-17 04:29:28+00:00  ...                                   982\n",
            "1 2021-04-18 04:29:28+00:00  ...                                   982\n",
            "2 2021-04-19 04:29:28+00:00  ...                                   982\n",
            "3 2021-04-17 12:29:28+00:00  ...                                   551\n",
            "4 2021-04-18 12:29:28+00:00  ...                                   551\n",
            "\n",
            "[5 rows x 6 columns]\n"
          ],
          "name": "stdout"
        },
        {
          "output_type": "execute_result",
          "data": {
            "text/plain": [
              "['driver_model.bin']"
            ]
          },
          "metadata": {
            "tags": []
          },
          "execution_count": 13
        }
      ]
    },
    {
      "cell_type": "markdown",
      "metadata": {
        "id": "HpHacyo47Are"
      },
      "source": [
        "## Step 6: Materialize your online store\n",
        "Apply and materialize data to Firestore"
      ]
    },
    {
      "cell_type": "code",
      "metadata": {
        "colab": {
          "base_uri": "https://localhost:8080/"
        },
        "id": "67627WRSajIk",
        "outputId": "056ce886-36a5-48dc-dcbb-23e032695708"
      },
      "source": [
        "!cd /content/feast-driver-ranking-tutorial/driver_ranking/ && feast materialize-incremental 2022-01-01T00:00:00"
      ],
      "execution_count": null,
      "outputs": [
        {
          "output_type": "stream",
          "text": [
            "Materializing \u001b[1m\u001b[32m1\u001b[0m feature views to \u001b[1m\u001b[32m2022-01-01 00:00:00+00:00\u001b[0m into the \u001b[1m\u001b[32mdatastore\u001b[0m online store.\n",
            "\n",
            "\u001b[1m\u001b[32mdriver_hourly_stats\u001b[0m from \u001b[1m\u001b[32m2020-07-27 20:45:14+00:00\u001b[0m to \u001b[1m\u001b[32m2022-01-01 00:00:00+00:00\u001b[0m:\n",
            "100%|███████████████████████████████████████████████████████████████| 10/10 [00:01<00:00,  6.16it/s]\n"
          ],
          "name": "stdout"
        }
      ]
    },
    {
      "cell_type": "markdown",
      "metadata": {
        "id": "-869cxQO2ana"
      },
      "source": [
        "### Step 7:  Make Prediction"
      ]
    },
    {
      "cell_type": "code",
      "metadata": {
        "id": "VP85XeGFzNYl"
      },
      "source": [
        "import pandas as pd\n",
        "import feast\n",
        "from joblib import load\n",
        "\n",
        "\n",
        "class DriverRankingModel:\n",
        "    def __init__(self):\n",
        "        # Load model\n",
        "        self.model = load(\"/content/driver_model.bin\")\n",
        "\n",
        "        # Set up feature store\n",
        "        self.fs = feast.FeatureStore(repo_path=\"/content/feast-driver-ranking-tutorial/driver_ranking/\")\n",
        "\n",
        "    def predict(self, driver_ids):\n",
        "        # Read features from Feast\n",
        "        driver_features = self.fs.get_online_features(\n",
        "            entity_rows=[{\"driver_id\": driver_id} for driver_id in driver_ids],\n",
        "            features=[\n",
        "                \"driver_hourly_stats:conv_rate\",\n",
        "                \"driver_hourly_stats:acc_rate\",\n",
        "                \"driver_hourly_stats:avg_daily_trips\",\n",
        "            ],\n",
        "        )\n",
        "        df = pd.DataFrame.from_dict(driver_features.to_dict())\n",
        "\n",
        "        # Make prediction\n",
        "        df[\"prediction\"] = self.model.predict(df[sorted(df)])\n",
        "\n",
        "        # Choose best driver\n",
        "        best_driver_id = df[\"driver_id\"].iloc[df[\"prediction\"].argmax()]\n",
        "\n",
        "        # return best driver\n",
        "        return best_driver_id"
      ],
      "execution_count": null,
      "outputs": []
    },
    {
      "cell_type": "code",
      "metadata": {
        "id": "f9AJ842Rk3E9"
      },
      "source": [
        "def make_drivers_prediction():\n",
        "    drivers = [1001, 1002, 1003, 1004]\n",
        "    model = DriverRankingModel()\n",
        "    best_driver = model.predict(drivers)\n",
        "    print(f\"Prediction for best driver id: {best_driver}\")"
      ],
      "execution_count": null,
      "outputs": []
    },
    {
      "cell_type": "code",
      "metadata": {
        "colab": {
          "base_uri": "https://localhost:8080/"
        },
        "id": "lq2TNXfjbb8e",
        "outputId": "7c163361-491b-4eb7-87e0-6b68eccc9030"
      },
      "source": [
        "make_drivers_prediction()"
      ],
      "execution_count": null,
      "outputs": [
        {
          "output_type": "stream",
          "text": [
            "Prediction for best driver id: 1001\n"
          ],
          "name": "stdout"
        }
      ]
    }
  ]
}